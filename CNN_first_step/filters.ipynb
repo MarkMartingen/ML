{
 "cells": [
  {
   "cell_type": "markdown",
   "id": "8170f159",
   "metadata": {},
   "source": [
    "# Counting number of objects of a 1D image\n",
    "\n",
    "This is a practice code. The idea is that we take a colummn vector of 0's and 1's and treat 1 a light and 0 as no light. Within this context the number of sequences of consequtive 0's can be be interpreted as the number of objects in an image. I will create a network that will takie (nx1) inputs (a 1D image) apply two filters - one counting the number of left edges and one counting the number of right edges getting a n x 1 x 2 tensor and the stack that into a one last layer with an identity activation. So the network should correctly output the number of objects\n",
    "\n",
    "There will be no training, I will fix the weights heuristically. Also there will be only a forward method\n"
   ]
  },
  {
   "cell_type": "markdown",
   "id": "ad9d576e",
   "metadata": {},
   "source": [
    "The plan:\n",
    "\n",
    "* Make test cases\n",
    "* Function that will take a d x 1 column vector and return two d x 1 vectors with left and right edges\n",
    "* Apply ReLU activations, so that we have clean left and right edges vectors - 0 no edge, 1 edge.\n",
    "* Count the number of right edges + 1 if the las element is a left edge by appying weights and a identity activation in the last layer\n",
    "* Test the network"
   ]
  },
  {
   "cell_type": "code",
   "execution_count": 97,
   "id": "70d3b51b",
   "metadata": {},
   "outputs": [],
   "source": [
    "# Test cases:\n",
    "import numpy as np\n",
    "image1 = np.array([[0,1,0]]).T\n",
    "image2 = np.array([[1,0,1]]).T\n",
    "image3 = np.array([[0]])\n",
    "image4 = np.array([[1]])\n",
    "image5 = np.array([[1,1,1,1,1]]).T\n",
    "image6 = np.array([[0,0,0,0,0]]).T\n",
    "image7 = np.array([[0,1,1,0,0]]).T\n",
    "image8 = np.array([[0,1,0,1,1]]).T\n",
    "image9 = np.array([[1,1,0,0,1,0,1,1,1,0,0,0,1]]).T\n",
    "image10 = np.array([[0,0,1,1,0,0,1,1,0,1,1,1,0,0,0,1,0,1]]).T\n",
    "\n",
    "\n",
    "expected = {'image1': (image1, 2), 'image2': (image2, 1), 'image3': (image3, 1), 'image4': (image4, 0),\n",
    "            'image5': (image5, 0), 'image6': (image6, 1), 'image7': (image7, 2), 'image8': (image8, 2),\n",
    "            'image9': (image9, 3), 'image10': (image10,5)}\n",
    "    \n"
   ]
  },
  {
   "cell_type": "code",
   "execution_count": 139,
   "id": "829e8694",
   "metadata": {},
   "outputs": [],
   "source": [
    "right_edge = np.array([[-1], [1]])\n",
    "\n",
    "def convolute(image, f):\n",
    "    image = np.vstack((np.array([[0]]), image))\n",
    "    feature_map = []\n",
    "    for i in range(len(image)-1):\n",
    "        feature_map.append(np.matmul(f, image[i:i+2]))\n",
    "    return np.array(feature_map).reshape((len(image)-1,1))\n",
    "\n",
    "\n",
    "def ReLU(x):\n",
    "    if type(x) == float or type(x) == int:\n",
    "        return x if x>0 else 0\n",
    "    else:\n",
    "        return np.vectorize(lambda x: x if x>0 else 0)(x)\n",
    "\n",
    "def is_last_left(image): ## This is a linear transformation with offset one. Basically 1 - last input\n",
    "    weights = np.zeros(image.shape).T\n",
    "    weights[:,[-1]] = 1\n",
    "    return 1 - np.matmul(weights,image)\n",
    "    \n",
    "    \n"
   ]
  },
  {
   "cell_type": "code",
   "execution_count": 140,
   "id": "ea884d8e",
   "metadata": {},
   "outputs": [
    {
     "name": "stdout",
     "output_type": "stream",
     "text": [
      "For image1 the test produces 2 objects, while 2 where expected. The test passed\n",
      "For image2 the test produces 1 objects, while 1 where expected. The test passed\n",
      "For image3 the test produces 1 objects, while 1 where expected. The test passed\n",
      "For image4 the test produces 0 objects, while 0 where expected. The test passed\n",
      "For image5 the test produces 0 objects, while 0 where expected. The test passed\n",
      "For image6 the test produces 1 objects, while 1 where expected. The test passed\n",
      "For image7 the test produces 2 objects, while 2 where expected. The test passed\n",
      "For image8 the test produces 2 objects, while 2 where expected. The test passed\n",
      "For image9 the test produces 3 objects, while 3 where expected. The test passed\n",
      "For image10 the test produces 5 objects, while 5 where expected. The test passed\n"
     ]
    }
   ],
   "source": [
    "for key in expected:\n",
    "    image, num_objects = expected[key]\n",
    "    \n",
    "    right = ReLU(convolute(image, right_edge.T))  #applying filter and ReLU activatio \n",
    "    last_left = ReLU(is_last_left(image))   #applying feed forward layer and ReLU activatio \n",
    "    \n",
    "    \n",
    "    # here we come to the output layer:\n",
    "    weights_right = np.ones(right.shape)\n",
    "    weights_right[[0],:] = 0\n",
    "    weights_last_left = np.ones(last_left.shape)\n",
    "    result = np.matmul(weights_right.T, right) + np.matmul(weights_last_left.T, last_left)\n",
    "\n",
    "    # Check results of tests\n",
    "    result = int(result)\n",
    "    if result == num_objects:\n",
    "        test_result = 'passed'\n",
    "    else:\n",
    "        test_result ='failed'\n",
    "\n",
    "    print('For {} the test produces {} objects, while {} where expected. The test {}'\n",
    "          .format(key, result, num_objects, test_result))\n",
    "\n"
   ]
  }
 ],
 "metadata": {
  "kernelspec": {
   "display_name": "Python 3 (ipykernel)",
   "language": "python",
   "name": "python3"
  },
  "language_info": {
   "codemirror_mode": {
    "name": "ipython",
    "version": 3
   },
   "file_extension": ".py",
   "mimetype": "text/x-python",
   "name": "python",
   "nbconvert_exporter": "python",
   "pygments_lexer": "ipython3",
   "version": "3.9.9"
  }
 },
 "nbformat": 4,
 "nbformat_minor": 5
}
