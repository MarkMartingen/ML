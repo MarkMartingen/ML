{
 "cells": [
  {
   "cell_type": "markdown",
   "id": "9b4d0885",
   "metadata": {},
   "source": [
    "# Logistic regression\n",
    "\n",
    "Here is the plan for this notebook, with the main objective to practice logistic regression\n",
    "\n",
    "* Generate a two dimensional data set with labels -1 and 1 using two gaussian random samples with different means (and perhaps also variances)\n",
    "\n",
    "* Plot a visual sepator and calculate it's efficiency\n",
    "\n",
    "* Implement a cross entropy loss function and its gradient with respect to parameters\n",
    "\n",
    "* Implement a hinge loss function and its gradient with respect to parameters\n",
    "\n",
    "* Implement a gradient descent algorithm that takes a function, its gradient, initial value and a step function\n",
    "\n",
    "* Use the gradient descent algorithm to fit both the cross entropy and hinge loss models for various values of lambda and pick the best lambda. \n",
    "\n",
    "* Run cross validation on both models and compare the results. \n",
    "\n",
    "\n"
   ]
  },
  {
   "cell_type": "markdown",
   "id": "49df78b6",
   "metadata": {},
   "source": [
    "## Generate data"
   ]
  },
  {
   "cell_type": "code",
   "execution_count": 484,
   "id": "cfe609b1",
   "metadata": {},
   "outputs": [
    {
     "data": {
      "image/png": "[encoded data removed]",
      "text/plain": [
       "<Figure size 640x480 with 1 Axes>"
      ]
     },
     "metadata": {},
     "output_type": "display_data"
    },
    {
     "data": {
      "text/html": [
       "<div>\n",
       "<style scoped>\n",
       "    .dataframe tbody tr th:only-of-type {\n",
       "        vertical-align: middle;\n",
       "    }\n",
       "\n",
       "    .dataframe tbody tr th {\n",
       "        vertical-align: top;\n",
       "    }\n",
       "\n",
       "    .dataframe thead th {\n",
       "        text-align: right;\n",
       "    }\n",
       "</style>\n",
       "<table border=\"1\" class=\"dataframe\">\n",
       "  <thead>\n",
       "    <tr style=\"text-align: right;\">\n",
       "      <th></th>\n",
       "      <th>x</th>\n",
       "      <th>y</th>\n",
       "      <th>label</th>\n",
       "    </tr>\n",
       "  </thead>\n",
       "  <tbody>\n",
       "    <tr>\n",
       "      <th>0</th>\n",
       "      <td>2.101460</td>\n",
       "      <td>8.997861</td>\n",
       "      <td>0.0</td>\n",
       "    </tr>\n",
       "    <tr>\n",
       "      <th>1</th>\n",
       "      <td>1.616616</td>\n",
       "      <td>4.440628</td>\n",
       "      <td>0.0</td>\n",
       "    </tr>\n",
       "    <tr>\n",
       "      <th>2</th>\n",
       "      <td>7.781410</td>\n",
       "      <td>5.507378</td>\n",
       "      <td>0.0</td>\n",
       "    </tr>\n",
       "    <tr>\n",
       "      <th>3</th>\n",
       "      <td>5.537366</td>\n",
       "      <td>4.107650</td>\n",
       "      <td>0.0</td>\n",
       "    </tr>\n",
       "    <tr>\n",
       "      <th>4</th>\n",
       "      <td>1.387654</td>\n",
       "      <td>5.154791</td>\n",
       "      <td>0.0</td>\n",
       "    </tr>\n",
       "  </tbody>\n",
       "</table>\n",
       "</div>"
      ],
      "text/plain": [
       "          x         y  label\n",
       "0  2.101460  8.997861    0.0\n",
       "1  1.616616  4.440628    0.0\n",
       "2  7.781410  5.507378    0.0\n",
       "3  5.537366  4.107650    0.0\n",
       "4  1.387654  5.154791    0.0"
      ]
     },
     "execution_count": 484,
     "metadata": {},
     "output_type": "execute_result"
    }
   ],
   "source": [
    "import numpy as np\n",
    "import pandas as pd\n",
    "from matplotlib import pyplot as plt\n",
    "from math import log\n",
    "\n",
    "\n",
    "mean1 = (2.0 ,5.0)\n",
    "mean2 = (1.0, 1.0)\n",
    "num_size = 100 # this is for one gaussian sample, so all together there will be 2*num_size data points\n",
    "\n",
    "np.random.default_rng(seed=100)\n",
    "data0 = np.random.multivariate_normal(mean1, np.diag(np.array([4,4])), size=num_size)\n",
    "\n",
    "np.random.default_rng(seed=100)\n",
    "data1 = np.random.multivariate_normal(mean2, np.diag(np.array([4,4])), size=num_size)\n",
    "\n",
    "plt.scatter(data0[:,0], data0[:,1], color='r')\n",
    "plt.scatter(data1[:,0], data1[:,1], color='b')\n",
    "plt.title('red points correspond to label 0 and blue to 1')\n",
    "plt.show()\n",
    "\n",
    "data = np.vstack((data0, data1))\n",
    "labels = np.vstack((np.zeros((num_size,1)), np.ones((num_size,1))))\n",
    "\n",
    "\n",
    "# Put all data into a pandas data frame:\n",
    "data_df = pd.DataFrame(data, columns = ['x', 'y'])\n",
    "data_df = pd.concat([data_df, pd.DataFrame(labels, columns=['label'])],axis=1)\n",
    "data_df.head()\n",
    "\n"
   ]
  },
  {
   "cell_type": "markdown",
   "id": "25a893c4",
   "metadata": {},
   "source": [
    "## Plot a separtor (visually) and caculate accuracy"
   ]
  },
  {
   "cell_type": "code",
   "execution_count": 457,
   "id": "27224333",
   "metadata": {},
   "outputs": [],
   "source": [
    "\n",
    "def plot_separator(data, labels, theta):\n",
    "    assert theta[1] * theta[0] !=0\n",
    "    \n",
    "    data_df = pd.DataFrame(data, columns = ['x', 'y'])\n",
    "    data_df = pd.concat([data_df, pd.DataFrame(labels, columns=['label'])],axis=1)\n",
    "    \n",
    "    data1 = np.array(data_df[data_df['label']==1][['x','y']])\n",
    "    data0 = np.array(data_df[data_df['label']==0][['x','y']])\n",
    "    \n",
    "    x_min = min(np.min(data1[:,0]),np.min(data0[:,0]))\n",
    "    x_max = max(np.max(data1[:,0]),np.max(data0[:,0]))\n",
    "    y_min = min(np.min(data1[:,1]),np.min(data0[:,1]))\n",
    "    y_max = max(np.max(data1[:,1]),np.max(data0[:,1]))\n",
    "    \n",
    "\n",
    "    if theta[1] == 0:\n",
    "        y_ref = np.linspace(y_min, y_max, 100)\n",
    "        x_ref = (theta[2]/theta[0])*np.ones((100,))\n",
    "    else:\n",
    "        x_ref = np.linspace(x_min,x_max, 100)\n",
    "        y_ref = (-theta[2]-theta[0]*x_ref)/theta[1]\n",
    "        \n",
    "    plt.scatter(data0[:,0], data0[:,1], color='r')\n",
    "    plt.scatter(data1[:,0], data1[:,1], color='b')\n",
    "    plt.plot(x_ref, y_ref, color='g')\n",
    "    plt.title('red points correspond to label 0 and blue to 1')\n",
    "    plt.show()\n",
    "    \n",
    "# theta = np.array([-1,-1,5])\n",
    "# plot_separator(data, labels, theta)"
   ]
  },
  {
   "cell_type": "code",
   "execution_count": 485,
   "id": "5fe9660f",
   "metadata": {},
   "outputs": [
    {
     "data": {
      "image/png": "[encoded data removed]",
      "text/plain": [
       "<Figure size 640x480 with 1 Axes>"
      ]
     },
     "metadata": {},
     "output_type": "display_data"
    },
    {
     "name": "stdout",
     "output_type": "stream",
     "text": [
      "The accuracy of this separtor is 0.795\n"
     ]
    }
   ],
   "source": [
    "\n",
    "def eval_separator(data, labels, theta, assign_fn):\n",
    "    n,d = data.shape\n",
    "    new_data = np.hstack((data, np.ones((n,1))))\n",
    "    value = np.vectorize(lambda x: assign_fn(x))(np.matmul(new_data, theta))\n",
    "    value = value.reshape((value.shape[0],1))\n",
    "    return (value == labels).sum()/value.shape[0]\n",
    "\n",
    "\n",
    "def assign_fn(x):\n",
    "    if x >= 0:\n",
    "        return 1\n",
    "    else:\n",
    "        return 0\n",
    "\n",
    "guess_theta = np.array([-1,-1,5]) # this is our guess separtator\n",
    "plot_separator(data, labels, guess_theta)\n",
    "print('The accuracy of this separtor is {}'.format(eval_separator(data, labels, guess_theta, assign_fn)))\n"
   ]
  },
  {
   "cell_type": "markdown",
   "id": "2fb901df",
   "metadata": {},
   "source": [
    "## Cross entropy loss function"
   ]
  },
  {
   "cell_type": "code",
   "execution_count": 463,
   "id": "f1aa7f78",
   "metadata": {},
   "outputs": [],
   "source": [
    "from math import log, exp\n",
    "\n",
    "def sign(x):\n",
    "    if x >= 0:\n",
    "        return 1\n",
    "    else:\n",
    "        return -1\n",
    "    \n",
    "def sigmoid(x):\n",
    "    return 1/(1 + exp(-x))\n",
    "\n",
    "\n",
    "def cross_entropy(data, labels, theta, lam):\n",
    "\n",
    "    n,d = data.shape\n",
    "\n",
    "    new_data = np.hstack((data,np.ones((n,1))))\n",
    "    raw_theta = theta[:-1,:]\n",
    "\n",
    "    guess = np.vectorize(lambda x: sigmoid(x))(np.matmul(new_data, theta))\n",
    "    \n",
    "    loss =  -labels * np.log(guess) - (1-labels) * np.log(1 - guess)\n",
    "\n",
    "    loss = np.array(loss).sum(axis=0, keepdims=True)/n\n",
    "\n",
    "    reg = lam * np.matmul(raw_theta.T, raw_theta)\n",
    " \n",
    "    return loss + reg\n",
    "\n",
    "\n",
    "def cross_entropy_grad(data, labels, theta, lam):\n",
    "    n,d = data.shape\n",
    "\n",
    "    new_data = np.hstack((data,np.ones((n,1)))) # add one's for the interect\n",
    "    raw_theta = theta[:-1,:] # theta without theta_0\n",
    "\n",
    "    guess = np.vectorize(lambda x: sigmoid(x))(np.matmul(new_data, theta))\n",
    "\n",
    "    grad_theta = np.array((((guess-labels) * data))).sum(axis=0, keepdims=True)/n + 2*lam * raw_theta.T \n",
    "    grad_theta_0 = (guess - labels).sum(axis=0, keepdims=True)/n\n",
    "\n",
    "    \n",
    "    grad = np.hstack((grad_theta, grad_theta_0))\n",
    "\n",
    "    return grad\n"
   ]
  },
  {
   "cell_type": "markdown",
   "id": "35796bdc",
   "metadata": {},
   "source": [
    "## Hinge Loss  "
   ]
  },
  {
   "cell_type": "code",
   "execution_count": 464,
   "id": "e8081a86",
   "metadata": {},
   "outputs": [],
   "source": [
    "def change_labels(labels):\n",
    "    return np.vectorize(lambda x: -1 if x == 0 else x)(labels)\n",
    "    \n",
    "    \n",
    "def hinge_loss(data, labels, theta, lam):\n",
    "\n",
    "    n,d = data.shape\n",
    "    new_data = np.hstack((data,np.ones((n,1))))\n",
    "    \n",
    "    labels = change_labels(labels)\n",
    "\n",
    "    guess = np.matmul(new_data, theta)\n",
    "    raw_theta = theta[:-1,:]\n",
    "    reg = lam * np.matmul(raw_theta.T, raw_theta)\n",
    "    \n",
    "    return np.maximum(0,labels * (1-guess)).sum() + reg\n",
    "\n",
    "\n",
    "def d_hinge(v):\n",
    "    d_hinge_f = np.vectorize(lambda v: -1 if v < 1 else 0)\n",
    "    return d_hinge_f(v)\n",
    "\n",
    "\n",
    "\n",
    "def hinge_loss_grad(data, labels, theta, lam):\n",
    "\n",
    "    n,d = data.shape\n",
    "    new_data = np.hstack((data,np.ones((n,1))))\n",
    "    labels = change_labels(labels)\n",
    "    \n",
    "    a = np.array(d_hinge(labels * (np.matmul(new_data, theta))))\n",
    "\n",
    "    b = np.array(np.matmul(data.T, np.diag(labels[:,0])).T)\n",
    "\n",
    "    c = (a*labels).sum(keepdims=True)\n",
    "\n",
    "\n",
    "    reg = (2*lam*theta[:-1,:]).T\n",
    "    \n",
    "    \n",
    "    return np.hstack(((a * b + reg).sum(axis=0, keepdims=True), c))/n\n"
   ]
  },
  {
   "cell_type": "markdown",
   "id": "bcc08cc9",
   "metadata": {},
   "source": [
    "## Gradient descent"
   ]
  },
  {
   "cell_type": "code",
   "execution_count": 465,
   "id": "24d958c5",
   "metadata": {},
   "outputs": [
    {
     "name": "stdout",
     "output_type": "stream",
     "text": [
      "Should be around 2 and gradient descent got -1.9120836825666812\n"
     ]
    }
   ],
   "source": [
    "def step_size_fn(i):\n",
    "    if i<=100:\n",
    "        return 0.03\n",
    "    elif i<=300:\n",
    "        return 0.02\n",
    "    elif i<=1000:\n",
    "        return 0.01\n",
    "    else:\n",
    "        return 0.001\n",
    "\n",
    "    \n",
    "def gd(f, df, x0, step_size_fn, max_iter):\n",
    "    counter = 0\n",
    "    \n",
    "    fs = [float(f(x0))]\n",
    "    xs = [x0]\n",
    "    \n",
    "    while counter <= max_iter:\n",
    "        counter += 1\n",
    "        x1 = x0 - step_size_fn(counter) * (df(x0).T)\n",
    "        x0 = x1\n",
    "        fs.append(float(f(x0)))\n",
    "        xs.append(x0)\n",
    "    return (x0, fs, xs)\n",
    " \n",
    "    \n",
    "# Test case for gradient descent\n",
    "    \n",
    "def f(x):\n",
    "    return (x+2)**4\n",
    "def df(x):\n",
    "    return 4*(x+2)**3\n",
    "\n",
    "results = gd(f, df, np.array([[2]]), step_size_fn, 3000)\n",
    "print('Should be around 2 and gradient descent got {}'.format(float(results[0])))"
   ]
  },
  {
   "cell_type": "markdown",
   "id": "049664b5",
   "metadata": {},
   "source": [
    "## Apply gradient descent"
   ]
  },
  {
   "cell_type": "code",
   "execution_count": 486,
   "id": "3d05658e",
   "metadata": {},
   "outputs": [
    {
     "data": {
      "image/png": "[encoded data removed]",
      "text/plain": [
       "<Figure size 640x480 with 1 Axes>"
      ]
     },
     "metadata": {},
     "output_type": "display_data"
    },
    {
     "name": "stdout",
     "output_type": "stream",
     "text": [
      "Gradient descent on hinge loss results in fit efficiency:  0.83\n"
     ]
    }
   ],
   "source": [
    "n,d = data.shape\n",
    "theta = np.zeros((d+1,1))\n",
    "my_lam = 0.2\n",
    "max_iter = 2000\n",
    "\n",
    "\n",
    "results = gd(\n",
    "    lambda x: hinge_loss(data, labels, x, my_lam),\n",
    "    lambda x: hinge_loss_grad(data, labels, x, my_lam),\n",
    "    theta, \n",
    "    step_size_fn,\n",
    "    max_iter\n",
    ")\n",
    "theta_fit = results[2][-1]\n",
    "plt.plot(range(len(results[1])),results[1])\n",
    "plt.xlabel('iterations')\n",
    "plt.ylabel('hinge loss')\n",
    "plt.show()\n",
    "\n",
    "print('Gradient descent on hinge loss results in fit efficiency: ',\n",
    "      eval_separator(data, labels, theta_fit, assign_fn))"
   ]
  },
  {
   "cell_type": "code",
   "execution_count": 487,
   "id": "b2bc2872",
   "metadata": {},
   "outputs": [
    {
     "data": {
      "image/png": "[encoded data removed]",
      "text/plain": [
       "<Figure size 640x480 with 1 Axes>"
      ]
     },
     "metadata": {},
     "output_type": "display_data"
    },
    {
     "name": "stdout",
     "output_type": "stream",
     "text": [
      "Gradient descent on cross entropy loss results in fit efficiency:  0.855\n"
     ]
    }
   ],
   "source": [
    "n,d = data.shape\n",
    "theta = np.zeros((d+1,1))\n",
    "my_lam = 0.2\n",
    "max_iter = 2000\n",
    "\n",
    "results = gd(\n",
    "    lambda x: cross_entropy(data, labels, x, my_lam),\n",
    "    lambda x: cross_entropy_grad(data, labels, x, my_lam),\n",
    "    theta, \n",
    "    step_size_fn,\n",
    "    max_iter\n",
    ")\n",
    "theta_fit = results[2][-1]\n",
    "plt.plot(range(len(results[1])),results[1])\n",
    "plt.xlabel('iterations')\n",
    "plt.ylabel('cross entropy loss')\n",
    "\n",
    "plt.show()\n",
    "\n",
    "print('Gradient descent on cross entropy loss results in fit efficiency: ',\n",
    "      eval_separator(data, labels, theta_fit, lambda x: 1 if sigmoid(x)>=0.5 else 0))"
   ]
  },
  {
   "cell_type": "markdown",
   "id": "b055ccb4",
   "metadata": {},
   "source": [
    "## Cross validation\n",
    "\n",
    "For both models - the cross entropy one and the hinge loss - we will use cross 10 fold (10 arbitrary) cross validation to see how the classifier performs on the average.\n"
   ]
  },
  {
   "cell_type": "code",
   "execution_count": 471,
   "id": "17c14395",
   "metadata": {},
   "outputs": [],
   "source": [
    "def eval_classifier(\n",
    "        loss, \n",
    "        loss_grad, \n",
    "        data_train, \n",
    "        labels_train, \n",
    "        data_test, \n",
    "        labels_test, \n",
    "        step_size_fn, \n",
    "        assign_fn,\n",
    "        my_lam, \n",
    "        max_iter):\n",
    "    \n",
    "    n,d = data_train.shape\n",
    "\n",
    "    loss_f = lambda x: loss(data_train, labels_train, x, my_lam )\n",
    "    loss_grad_f = lambda x: loss_grad(data_train, labels_train, x, my_lam)\n",
    "\n",
    "    theta = gd(loss_f, loss_grad_f, np.zeros((d+1,1)), step_size_fn, max_iter)[0]\n",
    "    return eval_separator(data_test, labels_test, theta, assign_fn)\n",
    "\n",
    "\n",
    "def cross_validation(\n",
    "                    loss, \n",
    "                    loss_grad, \n",
    "                    data, \n",
    "                    labels, \n",
    "                    step_size_fn, \n",
    "                    assign_fn,\n",
    "                    my_lam, \n",
    "                    max_iter,\n",
    "                    k=10\n",
    "                    ):\n",
    "    \n",
    "    data_labels = np.hstack((data, labels))\n",
    "    np.random.shuffle(data_labels) \n",
    "    \n",
    "    results = 0\n",
    "    \n",
    "    data_split = np.array_split(data_labels, k, axis=0)\n",
    "    \n",
    "    for i in range(k):\n",
    "        one_out = np.concatenate(data_split[0:i]+data_split[i+1:],axis=0)\n",
    "        one = data_split[i]\n",
    "    \n",
    "        data_train,labels_train = one_out[:,:-1], one_out[:,[-1]]\n",
    "\n",
    "        data_test,labels_test = one[:,:-1], one[:,[-1]]\n",
    "        \n",
    "        efficiency = eval_classifier(\n",
    "                            loss, \n",
    "                            loss_grad, \n",
    "                            data_train, \n",
    "                            labels_train, \n",
    "                            data_test, \n",
    "                            labels_test, \n",
    "                            step_size_fn, \n",
    "                            assign_fn,\n",
    "                            my_lam, \n",
    "                            max_iter\n",
    "                     )\n",
    "        \n",
    "        results += efficiency\n",
    "        print('{} -th cross validaton gave {}'.format(i+1, efficiency))\n",
    "    return(results/k)\n",
    "    \n"
   ]
  },
  {
   "cell_type": "markdown",
   "id": "12b9a514",
   "metadata": {},
   "source": [
    "Run 10 fold cross validation for the cross entropy loss function"
   ]
  },
  {
   "cell_type": "code",
   "execution_count": 488,
   "id": "c1740fd0",
   "metadata": {},
   "outputs": [
    {
     "name": "stdout",
     "output_type": "stream",
     "text": [
      "1 -th cross validaton gave 0.75\n",
      "2 -th cross validaton gave 0.85\n",
      "3 -th cross validaton gave 0.7\n",
      "4 -th cross validaton gave 0.75\n",
      "5 -th cross validaton gave 0.95\n",
      "6 -th cross validaton gave 0.9\n",
      "7 -th cross validaton gave 0.9\n",
      "8 -th cross validaton gave 1.0\n",
      "9 -th cross validaton gave 0.9\n",
      "10 -th cross validaton gave 0.75\n",
      "The cross validated accuracy is 0.8450000000000001\n"
     ]
    }
   ],
   "source": [
    "max_iter = 2000\n",
    "my_lam = 0.2\n",
    "k=10\n",
    "\n",
    "cv = cross_validation(\n",
    "                    cross_entropy, \n",
    "                    cross_entropy_grad, \n",
    "                    data, \n",
    "                    labels, \n",
    "                    step_size_fn, \n",
    "                    assign_fn,\n",
    "                    my_lam, \n",
    "                    max_iter,\n",
    "                    k\n",
    "                    )\n",
    "\n",
    "print('The cross validated accuracy is {}'.format(cv))"
   ]
  },
  {
   "cell_type": "markdown",
   "id": "2e7f7b52",
   "metadata": {},
   "source": [
    "Run 10 fold cross validation for the hinge loss loss function"
   ]
  },
  {
   "cell_type": "code",
   "execution_count": 489,
   "id": "f8c0473e",
   "metadata": {},
   "outputs": [
    {
     "name": "stdout",
     "output_type": "stream",
     "text": [
      "1 -th cross validaton gave 0.8\n",
      "2 -th cross validaton gave 0.9\n",
      "3 -th cross validaton gave 0.8\n",
      "4 -th cross validaton gave 0.8\n",
      "5 -th cross validaton gave 0.7\n",
      "6 -th cross validaton gave 0.85\n",
      "7 -th cross validaton gave 0.85\n",
      "8 -th cross validaton gave 0.85\n",
      "9 -th cross validaton gave 0.85\n",
      "10 -th cross validaton gave 0.85\n",
      "The cross validated accuracy is 0.8249999999999998\n"
     ]
    }
   ],
   "source": [
    "max_iter = 2000\n",
    "my_lam = 0.2\n",
    "k=10\n",
    "\n",
    "cv = cross_validation(\n",
    "                    hinge_loss, \n",
    "                    hinge_loss_grad, \n",
    "                    data, \n",
    "                    labels, \n",
    "                    step_size_fn, \n",
    "                    assign_fn,\n",
    "                    my_lam, \n",
    "                    max_iter,\n",
    "                    k\n",
    "                    )\n",
    "\n",
    "print('The cross validated accuracy is {}'.format(cv))"
   ]
  }
 ],
 "metadata": {
  "kernelspec": {
   "display_name": "Python 3 (ipykernel)",
   "language": "python",
   "name": "python3"
  },
  "language_info": {
   "codemirror_mode": {
    "name": "ipython",
    "version": 3
   },
   "file_extension": ".py",
   "mimetype": "text/x-python",
   "name": "python",
   "nbconvert_exporter": "python",
   "pygments_lexer": "ipython3",
   "version": "3.9.9"
  }
 },
 "nbformat": 4,
 "nbformat_minor": 5
}
